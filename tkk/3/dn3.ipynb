{
 "metadata": {
  "language_info": {
   "codemirror_mode": {
    "name": "ipython",
    "version": 3
   },
   "file_extension": ".py",
   "mimetype": "text/x-python",
   "name": "python",
   "nbconvert_exporter": "python",
   "pygments_lexer": "ipython3",
   "version": "3.8.6"
  },
  "orig_nbformat": 2,
  "kernelspec": {
   "name": "python386jvsc74a57bd08fed2ff45743337654db38a4bb61b3fa627223a74b693b231b94440dd2d8b7c4",
   "display_name": "Python 3.8.6 64-bit"
  },
  "metadata": {
   "interpreter": {
    "hash": "8fed2ff45743337654db38a4bb61b3fa627223a74b693b231b94440dd2d8b7c4"
   }
  }
 },
 "nbformat": 4,
 "nbformat_minor": 2,
 "cells": [
  {
   "source": [
    "# Iskanje kvazi-trkov SHA-1 \n",
    "Generiram naključen niz, pogledam njegov hash. Preverim, ce se je zacetek tega hasha ze kdaj pojavil pri katerem izmed prej generiranih hashov. \n",
    "- Če se je pojavil zakljucim in za moji besedili vzamem trenutno generirano besedilo in besedilo, ko je dalo isti začetek hasha.\n",
    "- Če se ni pojavil besedilo shranim v slovar pod ključem začetka hasha. "
   ],
   "cell_type": "markdown",
   "metadata": {}
  },
  {
   "cell_type": "code",
   "execution_count": null,
   "metadata": {},
   "outputs": [],
   "source": [
    "import string\n",
    "import random \n",
    "import hashlib\n",
    "\n",
    "# pomožne funkcije\n",
    "def random_string(min_len=10, max_len=15):\n",
    "    return ''.join(random.choices(string.ascii_uppercase + string.digits, k = random.randint(min_len, max_len)))    \n",
    "\n",
    "def sha1(s):\n",
    "    return hashlib.sha1(s.encode()).hexdigest()"
   ]
  },
  {
   "cell_type": "code",
   "execution_count": null,
   "metadata": {
    "tags": []
   },
   "outputs": [],
   "source": [
    "hashes = {}\n",
    "while True:\n",
    "    s1 = random_string()\n",
    "    if(sha1(s1)[:11] in hashes):\n",
    "        break\n",
    "    else:\n",
    "        hashes[sha1(s1)[:11]] = s1\n",
    "s2 = hashes[sha1(s1)[:11]]\n",
    "\n",
    "print(sha1(s1),s1)\n",
    "print(sha1(s2),s2)\n"
   ]
  },
  {
   "source": [
    "## Primer najdenih besedil \n",
    "shranjeni z razlogom krajšanja časa izvajanja"
   ],
   "cell_type": "markdown",
   "metadata": {}
  },
  {
   "cell_type": "code",
   "execution_count": null,
   "metadata": {},
   "outputs": [],
   "source": [
    "s1 = \"5V38DYZKVPCX5W\"\n",
    "s2 = \"0CI603K1K2\""
   ]
  },
  {
   "source": [
    "# Podpis rešitve\n",
    "\n",
    "priprava besedila za podpis:"
   ],
   "cell_type": "markdown",
   "metadata": {}
  },
  {
   "cell_type": "code",
   "execution_count": null,
   "metadata": {},
   "outputs": [],
   "source": [
    "s = f\"{s1} {s2}\"\n",
    "text_sha = sha1(s)\n",
    "text_int = int(sha1(s), 16)\n",
    "first_solution = f\"{s} {text_int}\"\n",
    "print(first_solution)"
   ]
  },
  {
   "source": [
    "## Generiranje ključa \n",
    "`pip install PyCryptodome`  \n",
    "\n",
    "Ključ generiram s pomočjo knjižnice in izvozim potrebne vrednosti"
   ],
   "cell_type": "markdown",
   "metadata": {}
  },
  {
   "cell_type": "code",
   "execution_count": null,
   "metadata": {},
   "outputs": [],
   "source": [
    "from Crypto.PublicKey import DSA\n",
    "key = DSA.generate(1024)\n",
    "q = key.q\n",
    "p = key.p\n",
    "a = key.x\n",
    "alpha = key.g\n",
    "beta = key.y\n",
    "print(f\"{p}\\n{q}\\n{alpha}\\n{beta}\")\n",
    "print(f\"a:{a}\")"
   ]
  },
  {
   "source": [
    "### shranjena identiteta"
   ],
   "cell_type": "markdown",
   "metadata": {}
  },
  {
   "cell_type": "code",
   "execution_count": null,
   "metadata": {},
   "outputs": [],
   "source": [
    "identity = \"63180016JanezJustin\"\n",
    "a = 88769319014054660730681526478685395170035564236\n",
    "p = 150062830636387325240554145885519272280749208800939775265138904737897223975352708831313987848753708078363982052997305312195973671863429081630615348449025232191175751359619885970801765526680019929819779817734763444389761704863824924813191029707940053041375422807192070838830680716520059121293732085522168600171\n",
    "q = 755819435904388790217062696519171866591972627633\n",
    "alpha = 88629923388766247370427034792874653217028414506418334706536728355400045695704287033788704130284124131962016875579895492109240843123396552403700123722906619600116179463917448376716958697224244414083771453611764634025044515036449070553801652648528923205740422980648372351861494147732463178840005934326607498429\n",
    "beta = 122959898742959017778098446549445363233475078032748271993764366858345385956191321272931294528184550565008338503358550376275689421821009799962775160088021762402931749706368041723858842832367606808757213183773599056202196552162236729798594970563347932259735582568296967906840243355450986983758401243265415216356\n",
    "full_identity = f\"{identity}\\n{p}\\n{q}\\n{alpha}\\n{beta}\"\n",
    "print(full_identity)"
   ]
  },
  {
   "source": [
    "## Podpisovanje\n",
    "Se izvede po algoritmu opisanem na prosojnicah. Podpis se po kreiranju tudi preveri"
   ],
   "cell_type": "markdown",
   "metadata": {}
  },
  {
   "cell_type": "code",
   "execution_count": null,
   "metadata": {},
   "outputs": [],
   "source": [
    "from random import randint\n",
    "while True:\n",
    "    k = randint(1, q-1)\n",
    "    gamma = pow(alpha, k, p) % q\n",
    "    k_inv = pow(k, -1, q)\n",
    "    delta = (k_inv * (text_int + a * gamma)) % q\n",
    "    if delta != 0 and gamma != 0:\n",
    "        break\n",
    "print(gamma, delta)\n",
    "\n",
    "# preverba podpisa\n",
    "w = pow(delta, -1, q)\n",
    "e1 = (text_int*w) % q\n",
    "e2 = (gamma*w) % q\n",
    "v = ((pow(alpha,e1,p) * pow(beta,e2,p)) % p) % q\n",
    "\n",
    "if v==gamma:\n",
    "    print(\"Signature ok\")\n",
    "else:\n",
    "    print(\"Signature invalid\")"
   ]
  },
  {
   "source": [
    "# Blockchain\n",
    "## Generiranje novega bloka\n",
    "Poskušam z različnimi vrednostim 4. vrstice, dokler ne dobim bloka, ki ima na začetku hasha dovolj ničel"
   ],
   "cell_type": "markdown",
   "metadata": {}
  },
  {
   "cell_type": "code",
   "execution_count": null,
   "metadata": {},
   "outputs": [],
   "source": [
    "prev_block_hash = \"00000000679401e5c44f03f801ffe47ce359c59c\"\n",
    "my_block_3 = f\"{first_solution}\\n{identity} {gamma} {delta}\\n{prev_block_hash}\\n\"\n",
    "n = 7\n",
    "i = 0\n",
    "prefix = n*\"0\"\n",
    "while True:\n",
    "    my_block = my_block_3 + str(i)\n",
    "    if(sha1(my_block)[:n] == prefix):\n",
    "        break\n",
    "    i+=1\n",
    "my_block = f\"{my_block}\\n{sha1(my_block)}\"\n",
    "print(my_block)"
   ]
  },
  {
   "source": [
    "## Preverjanje bloka\n",
    "Preveri, če je blok pravilen ob predpostavki, da je blok pred njim pravilen "
   ],
   "cell_type": "markdown",
   "metadata": {}
  },
  {
   "cell_type": "code",
   "execution_count": null,
   "metadata": {},
   "outputs": [],
   "source": [
    "last_block = \"\"\"\n",
    "5V38DYZKVPCX5W 0CI603K1K2 479715696515895985103007358854059603148610070068\n",
    "63180016JanezJustin 296674042762533888762414411018612906390837867511 435220522721221093656746386677426046316853205572\n",
    "00000000679401e5c44f03f801ffe47ce359c59c\n",
    "412351070\n",
    "00000001c32b849ad42355b220ed81f4eacaec0d\n",
    "\"\"\".split(\"\\n\")\n",
    "last_block_id = \"\"\"\n",
    "150062830636387325240554145885519272280749208800939775265138904737897223975352708831313987848753708078363982052997305312195973671863429081630615348449025232191175751359619885970801765526680019929819779817734763444389761704863824924813191029707940053041375422807192070838830680716520059121293732085522168600171\n",
    "755819435904388790217062696519171866591972627633 \n",
    "88629923388766247370427034792874653217028414506418334706536728355400045695704287033788704130284124131962016875579895492109240843123396552403700123722906619600116179463917448376716958697224244414083771453611764634025044515036449070553801652648528923205740422980648372351861494147732463178840005934326607498429\n",
    "122959898742959017778098446549445363233475078032748271993764366858345385956191321272931294528184550565008338503358550376275689421821009799962775160088021762402931749706368041723858842832367606808757213183773599056202196552162236729798594970563347932259735582568296967906840243355450986983758401243265415216356\n",
    "\"\"\".split(\"\\n\")\n",
    "prev_block_hash = \"00000000679401e5c44f03f801ffe47ce359c59c\"\n",
    "text_arr = last_block[1].split(\" \")\n",
    "text_int2 = int(text_arr[2])"
   ]
  },
  {
   "cell_type": "code",
   "execution_count": null,
   "metadata": {},
   "outputs": [],
   "source": [
    "### Preveri, če se podani hashi ujemajo\n",
    "# v trenutnem bloku je pravilen hash prejšnjega bloka\n",
    "isOk = True\n",
    "if prev_block_hash != last_block[3]:\n",
    "    print(\"Hash not matching previous block\")\n",
    "    isOk = False\n",
    "# hash trenutnega bloka je pravilen\n",
    "if last_block[5] != sha1('\\n'.join(last_block[1:5])):\n",
    "    print(\"Hash of current block is invalid\")\n",
    "    isOk = False\n",
    "\n",
    "### preveri, če je besedilo pravilno\n",
    "# preveri, če so prefixi hashov pravilni\n",
    "if sha1(text_arr[0])[:11] != sha1(text_arr[1])[:11]: \n",
    "    print(\"line 1 hash prefixes not matching\")\n",
    "    isOk = False\n",
    "# preveri, če je int zapis hasha pravilen\n",
    "if str(text_int2) != text_arr[2]:\n",
    "    print(\"Int representation of hash is invalid\")\n",
    "    isOk = False\n",
    "if isOk:\n",
    "    print(\"Hashes ok\")"
   ]
  },
  {
   "cell_type": "code",
   "execution_count": null,
   "metadata": {},
   "outputs": [],
   "source": [
    "### Preveri podpis\n",
    "# podpis\n",
    "[g, d] = last_block[2].split(\" \")[1:3]\n",
    "g = int(g)\n",
    "d = int(d)\n",
    "\n",
    "# izluscevanje identitete\n",
    "p = int(last_block_id[1])\n",
    "q = int(last_block_id[2])\n",
    "al = int(last_block_id[3])\n",
    "b = int(last_block_id[4])\n",
    "\n",
    "# preverba podpisa po algoritmu iz predavanj\n",
    "w = pow(d, -1, q)\n",
    "e1 = (text_int2*w) % q\n",
    "e2 = (g*w) % q\n",
    "v = ((pow(al,e1,p) * pow(b,e2,p)) % p) % q\n",
    "\n",
    "if v==g:\n",
    "    print(\"Signature ok\")\n",
    "else:\n",
    "    print(\"Signature invalid\")"
   ]
  }
 ]
}